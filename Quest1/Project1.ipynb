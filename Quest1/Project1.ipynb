{
 "cells": [
  {
   "cell_type": "markdown",
   "metadata": {
    "id": "yeOMF02D0UI6"
   },
   "source": [
    "###**(1) 데이터 가져오기**\n",
    "\n",
    "*   sklearn.datasets의 load_diabetes에서 데이터를 가져와주세요.\n",
    "*   diabetes의 data를 df_X에, target을 df_y에 저장해주세요."
   ]
  },
  {
   "cell_type": "code",
   "execution_count": 1,
   "metadata": {
    "colab": {
     "base_uri": "https://localhost:8080/"
    },
    "executionInfo": {
     "elapsed": 1285,
     "status": "ok",
     "timestamp": 1688985990462,
     "user": {
      "displayName": "서희원",
      "userId": "11121273080748705185"
     },
     "user_tz": -540
    },
    "id": "NPLVhOxO0F6q",
    "outputId": "e5924f08-d466-4bfa-b1dd-db09305e1c1c"
   },
   "outputs": [
    {
     "name": "stdout",
     "output_type": "stream",
     "text": [
      "(442, 10)\n",
      "(442,)\n"
     ]
    }
   ],
   "source": [
    "from sklearn.datasets import load_diabetes\n",
    "from sklearn.model_selection import train_test_split\n",
    "import pandas as pd\n",
    "import numpy as np\n",
    "import matplotlib.pyplot as plt\n",
    "\n",
    "diabetes = load_diabetes()\n",
    "df_X = diabetes.data\n",
    "df_y = diabetes.target\n",
    "\n",
    "print(df_X.shape)\n",
    "print(df_y.shape)"
   ]
  },
  {
   "cell_type": "markdown",
   "metadata": {
    "id": "eff7V7rj12Wj"
   },
   "source": [
    "###**(2) 모델에 입력할 데이터 X, y 준비하기**\n",
    "*   df_X에 있는 값들을 numpy array로 변환해서 저장해주세요.\n",
    "*   df_y에 있는 값들을 numpy array로 변환해서 저장해주세요."
   ]
  },
  {
   "cell_type": "code",
   "execution_count": 2,
   "metadata": {
    "executionInfo": {
     "elapsed": 40,
     "status": "ok",
     "timestamp": 1688985990463,
     "user": {
      "displayName": "서희원",
      "userId": "11121273080748705185"
     },
     "user_tz": -540
    },
    "id": "BiAZsQF01bxW"
   },
   "outputs": [],
   "source": [
    "X = np.array(df_X)\n",
    "y = np.array(df_y)"
   ]
  },
  {
   "cell_type": "markdown",
   "metadata": {
    "id": "XlkiS0yk3B-7"
   },
   "source": [
    "###**(3) train 데이터와 test 데이터로 분리하기**\n",
    "*   X와 y 데이터를 각각 train 데이터와 test 데이터로 분리해주세요."
   ]
  },
  {
   "cell_type": "code",
   "execution_count": 3,
   "metadata": {
    "colab": {
     "base_uri": "https://localhost:8080/"
    },
    "executionInfo": {
     "elapsed": 40,
     "status": "ok",
     "timestamp": 1688985990465,
     "user": {
      "displayName": "서희원",
      "userId": "11121273080748705185"
     },
     "user_tz": -540
    },
    "id": "x08pPIyC3Bm2",
    "outputId": "1214a2cc-0cce-4f6d-aa5d-78a23d02da57"
   },
   "outputs": [
    {
     "name": "stdout",
     "output_type": "stream",
     "text": [
      "(309, 10) (309,)\n",
      "(133, 10) (133,)\n"
     ]
    }
   ],
   "source": [
    "X_train, X_test, y_train, y_test = train_test_split(X, y, test_size=0.3, random_state=1)\n",
    "\n",
    "print(X_train.shape, y_train.shape)\n",
    "print(X_test.shape, y_test.shape)"
   ]
  },
  {
   "cell_type": "markdown",
   "metadata": {
    "id": "ZYYbN_Bs5Q9F"
   },
   "source": [
    "###**(4) 모델 준비하기**\n",
    "*   입력 데이터 개수에 맞는 가중치 W와 b를 준비해주세요.\n",
    "*   모델 함수를 구현해주세요.\n"
   ]
  },
  {
   "cell_type": "code",
   "execution_count": 4,
   "metadata": {
    "colab": {
     "base_uri": "https://localhost:8080/"
    },
    "executionInfo": {
     "elapsed": 35,
     "status": "ok",
     "timestamp": 1688985990465,
     "user": {
      "displayName": "서희원",
      "userId": "11121273080748705185"
     },
     "user_tz": -540
    },
    "id": "IOrW_EdJ5RTi",
    "outputId": "0f8d8623-7715-4d31-ee5e-6e007b0d8205"
   },
   "outputs": [
    {
     "name": "stdout",
     "output_type": "stream",
     "text": [
      "[0.95316751 0.10861531 0.76228141 0.70072989 0.8002379  0.08269874\n",
      " 0.74765603 0.56168819 0.73303253 0.75997892] 0.12864173160697534\n",
      "(309,)\n"
     ]
    }
   ],
   "source": [
    "W = np.random.rand(10)\n",
    "b = np.random.rand()\n",
    "\n",
    "def model(x, w, b):\n",
    "  predictions = 0\n",
    "  for i in range(10):\n",
    "    predictions += x[:, i] * w[i]\n",
    "  predictions += b\n",
    "\n",
    "  return predictions\n",
    "\n",
    "print(W, b)\n",
    "print(model(X_train, W, b).shape)"
   ]
  },
  {
   "cell_type": "markdown",
   "metadata": {
    "id": "pQ2FeGla5wjz"
   },
   "source": [
    "###**(5) 손실함수 loss 정의하기**\n",
    "*   손실함수를 MSE 함수로 정의해주세요."
   ]
  },
  {
   "cell_type": "code",
   "execution_count": 5,
   "metadata": {
    "colab": {
     "base_uri": "https://localhost:8080/"
    },
    "executionInfo": {
     "elapsed": 33,
     "status": "ok",
     "timestamp": 1688985990466,
     "user": {
      "displayName": "서희원",
      "userId": "11121273080748705185"
     },
     "user_tz": -540
    },
    "id": "3r_8lMP55wIv",
    "outputId": "8669e711-eb70-496b-94b5-5ec9110ef0bd"
   },
   "outputs": [
    {
     "name": "stdout",
     "output_type": "stream",
     "text": [
      "29982.633877876364\n"
     ]
    }
   ],
   "source": [
    "def MSE(predictions, y):\n",
    "    mse = ((predictions - y) ** 2).mean()\n",
    "\n",
    "    return mse\n",
    "\n",
    "def loss(x, w, b, y):\n",
    "  predictions = model(x, w, b)\n",
    "  loss = MSE(predictions, y)\n",
    "\n",
    "  return loss\n",
    "\n",
    "print(loss(X_train, W, b, y_train))"
   ]
  },
  {
   "cell_type": "markdown",
   "metadata": {
    "id": "feiA81W75vsT"
   },
   "source": [
    "###**(6) 기울기를 구하는 gradient 함수 구현하기**\n",
    "*   기울기를 계산하는 gradient 함수를 구현해주세요."
   ]
  },
  {
   "cell_type": "code",
   "execution_count": 6,
   "metadata": {
    "colab": {
     "base_uri": "https://localhost:8080/"
    },
    "executionInfo": {
     "elapsed": 29,
     "status": "ok",
     "timestamp": 1688985990466,
     "user": {
      "displayName": "서희원",
      "userId": "11121273080748705185"
     },
     "user_tz": -540
    },
    "id": "tGqAKYZ05yyq",
    "outputId": "1d12b14c-e131-4916-f522-71448f18eb7b"
   },
   "outputs": [
    {
     "name": "stdout",
     "output_type": "stream",
     "text": [
      "dW: [-1.74126173 -0.30271013 -5.59316709 -4.31638122 -1.93708934 -1.38931346\n",
      "  2.91492978 -3.32746345 -4.70207221 -3.64586976]\n",
      "db: -307.8544469053209\n"
     ]
    }
   ],
   "source": [
    "def gradient(X, W, b, y):\n",
    "  N = len(y)\n",
    "  y_pred = model(X, W, b)\n",
    "\n",
    "  dW = 1/N * 2 * X.T.dot(y_pred - y)\n",
    "  db = 2 * (y_pred - y).mean()\n",
    "\n",
    "  return dW, db\n",
    "\n",
    "dW, db = gradient(X_train, W, b, y_train)\n",
    "print(\"dW:\", dW)\n",
    "print(\"db:\", db)"
   ]
  },
  {
   "cell_type": "markdown",
   "metadata": {
    "id": "GFqYnKeC5x0u"
   },
   "source": [
    "###**(7) 하이퍼 파라미터인 학습률 설정하기**\n",
    "*   학습률, learning rate 를 설정해주세요\n",
    "*   만약 학습이 잘 되지 않는다면 learning rate 값을 한번 여러 가지로 설정하며 실험해 보세요."
   ]
  },
  {
   "cell_type": "code",
   "execution_count": 7,
   "metadata": {
    "executionInfo": {
     "elapsed": 26,
     "status": "ok",
     "timestamp": 1688985990467,
     "user": {
      "displayName": "서희원",
      "userId": "11121273080748705185"
     },
     "user_tz": -540
    },
    "id": "Spw7O1Be5zVy"
   },
   "outputs": [],
   "source": [
    "def fit(x, w, b, y, epoch):\n",
    "  LEARNING_RATE = 0.1\n",
    "  losses = list()\n",
    "  losses = []\n",
    "\n",
    "  for epoch in range(epoch):\n",
    "    dW, db = gradient(x, w, b, y)\n",
    "    w -= LEARNING_RATE * dW\n",
    "    b -= LEARNING_RATE * db\n",
    "    L = loss(x, W, b, y)\n",
    "    losses.append(L)\n",
    "    if epoch % 10 == 0:\n",
    "        print('Iteration %d : Loss %0.4f' % (epoch, L))\n",
    "\n",
    "  return w, b, losses"
   ]
  },
  {
   "cell_type": "markdown",
   "metadata": {
    "id": "YHBYJ8znJGYY"
   },
   "source": [
    "###**(8) 모델 학습하기**\n",
    "*   정의된 손실함수와 기울기 함수로 모델을 학습해주세요.\n",
    "*   loss값이 충분히 떨어질 때까지 학습을 진행해주세요.\n",
    "*   입력하는 데이터인 X에 들어가는 특성 컬럼들을 몇 개 빼도 괜찮습니다. 다양한 데이터로 실험해 보세요."
   ]
  },
  {
   "cell_type": "code",
   "execution_count": 8,
   "metadata": {
    "colab": {
     "base_uri": "https://localhost:8080/"
    },
    "executionInfo": {
     "elapsed": 24,
     "status": "ok",
     "timestamp": 1688985990467,
     "user": {
      "displayName": "서희원",
      "userId": "11121273080748705185"
     },
     "user_tz": -540
    },
    "id": "5r-3_Br2ICLL",
    "outputId": "e323ba77-f8f0-4aa3-e2be-be85d40e29e4"
   },
   "outputs": [
    {
     "name": "stdout",
     "output_type": "stream",
     "text": [
      "Iteration 0 : Loss 21441.8566\n",
      "Iteration 10 : Loss 6362.5183\n",
      "Iteration 20 : Loss 6105.6158\n",
      "Iteration 30 : Loss 6022.2367\n",
      "Iteration 40 : Loss 5943.4209\n",
      "Iteration 50 : Loss 5867.1318\n",
      "Iteration 60 : Loss 5793.2602\n",
      "Iteration 70 : Loss 5721.7221\n",
      "Iteration 80 : Loss 5652.4370\n",
      "Iteration 90 : Loss 5585.3270\n",
      "Iteration 100 : Loss 5520.3171\n",
      "Iteration 110 : Loss 5457.3349\n",
      "Iteration 120 : Loss 5396.3106\n",
      "Iteration 130 : Loss 5337.1770\n",
      "Iteration 140 : Loss 5279.8691\n",
      "Iteration 150 : Loss 5224.3243\n",
      "Iteration 160 : Loss 5170.4823\n",
      "Iteration 170 : Loss 5118.2848\n",
      "Iteration 180 : Loss 5067.6756\n",
      "Iteration 190 : Loss 5018.6006\n",
      "Iteration 200 : Loss 4971.0075\n",
      "Iteration 210 : Loss 4924.8458\n",
      "Iteration 220 : Loss 4880.0670\n",
      "Iteration 230 : Loss 4836.6242\n",
      "Iteration 240 : Loss 4794.4720\n",
      "Iteration 250 : Loss 4753.5670\n",
      "Iteration 260 : Loss 4713.8669\n",
      "Iteration 270 : Loss 4675.3312\n",
      "Iteration 280 : Loss 4637.9207\n",
      "Iteration 290 : Loss 4601.5976\n",
      "Iteration 300 : Loss 4566.3254\n",
      "Iteration 310 : Loss 4532.0689\n",
      "Iteration 320 : Loss 4498.7943\n",
      "Iteration 330 : Loss 4466.4687\n",
      "Iteration 340 : Loss 4435.0606\n",
      "Iteration 350 : Loss 4404.5395\n",
      "Iteration 360 : Loss 4374.8760\n",
      "Iteration 370 : Loss 4346.0417\n",
      "Iteration 380 : Loss 4318.0092\n",
      "Iteration 390 : Loss 4290.7521\n",
      "Iteration 400 : Loss 4264.2449\n",
      "Iteration 410 : Loss 4238.4630\n",
      "Iteration 420 : Loss 4213.3826\n",
      "Iteration 430 : Loss 4188.9810\n",
      "Iteration 440 : Loss 4165.2358\n",
      "Iteration 450 : Loss 4142.1258\n",
      "Iteration 460 : Loss 4119.6305\n",
      "Iteration 470 : Loss 4097.7298\n",
      "Iteration 480 : Loss 4076.4047\n",
      "Iteration 490 : Loss 4055.6365\n",
      "Iteration 500 : Loss 4035.4075\n",
      "Iteration 510 : Loss 4015.7004\n",
      "Iteration 520 : Loss 3996.4985\n",
      "Iteration 530 : Loss 3977.7857\n",
      "Iteration 540 : Loss 3959.5466\n",
      "Iteration 550 : Loss 3941.7661\n",
      "Iteration 560 : Loss 3924.4297\n",
      "Iteration 570 : Loss 3907.5235\n",
      "Iteration 580 : Loss 3891.0340\n",
      "Iteration 590 : Loss 3874.9482\n",
      "Iteration 600 : Loss 3859.2534\n",
      "Iteration 610 : Loss 3843.9376\n",
      "Iteration 620 : Loss 3828.9891\n",
      "Iteration 630 : Loss 3814.3964\n",
      "Iteration 640 : Loss 3800.1487\n",
      "Iteration 650 : Loss 3786.2354\n",
      "Iteration 660 : Loss 3772.6462\n",
      "Iteration 670 : Loss 3759.3714\n",
      "Iteration 680 : Loss 3746.4014\n",
      "Iteration 690 : Loss 3733.7270\n",
      "Iteration 700 : Loss 3721.3394\n",
      "Iteration 710 : Loss 3709.2298\n",
      "Iteration 720 : Loss 3697.3901\n",
      "Iteration 730 : Loss 3685.8123\n",
      "Iteration 740 : Loss 3674.4885\n",
      "Iteration 750 : Loss 3663.4114\n",
      "Iteration 760 : Loss 3652.5736\n",
      "Iteration 770 : Loss 3641.9682\n",
      "Iteration 780 : Loss 3631.5884\n",
      "Iteration 790 : Loss 3621.4277\n",
      "Iteration 800 : Loss 3611.4798\n",
      "Iteration 810 : Loss 3601.7387\n",
      "Iteration 820 : Loss 3592.1983\n",
      "Iteration 830 : Loss 3582.8530\n",
      "Iteration 840 : Loss 3573.6972\n",
      "Iteration 850 : Loss 3564.7257\n",
      "Iteration 860 : Loss 3555.9334\n",
      "Iteration 870 : Loss 3547.3151\n",
      "Iteration 880 : Loss 3538.8661\n",
      "Iteration 890 : Loss 3530.5817\n",
      "Iteration 900 : Loss 3522.4574\n",
      "Iteration 910 : Loss 3514.4889\n",
      "Iteration 920 : Loss 3506.6720\n",
      "Iteration 930 : Loss 3499.0024\n",
      "Iteration 940 : Loss 3491.4764\n",
      "Iteration 950 : Loss 3484.0900\n",
      "Iteration 960 : Loss 3476.8396\n",
      "Iteration 970 : Loss 3469.7216\n",
      "Iteration 980 : Loss 3462.7325\n",
      "Iteration 990 : Loss 3455.8689\n",
      "Iteration 1000 : Loss 3449.1277\n"
     ]
    }
   ],
   "source": [
    "W, b, losses = fit(X_train, W, b, y_train, 1001)"
   ]
  },
  {
   "cell_type": "markdown",
   "metadata": {
    "id": "v9Z3CiZZGYLZ"
   },
   "source": [
    "###**(9) test 데이터에 대한 성능 확인하기**\n",
    "*   test 데이터에 대한 성능을 확인해주세요."
   ]
  },
  {
   "cell_type": "code",
   "execution_count": 9,
   "metadata": {
    "colab": {
     "base_uri": "https://localhost:8080/"
    },
    "executionInfo": {
     "elapsed": 16,
     "status": "ok",
     "timestamp": 1688985990468,
     "user": {
      "displayName": "서희원",
      "userId": "11121273080748705185"
     },
     "user_tz": -540
    },
    "id": "mQTq07SdGX5O",
    "outputId": "a73fff62-5f6e-4742-f7d1-cea186c0283a"
   },
   "outputs": [
    {
     "name": "stdout",
     "output_type": "stream",
     "text": [
      "3066.485874747208\n"
     ]
    }
   ],
   "source": [
    "prediction = model(X_test, W, b)\n",
    "mse = loss(X_test, W, b, y_test)\n",
    "\n",
    "print(mse)"
   ]
  },
  {
   "cell_type": "markdown",
   "metadata": {
    "id": "oXQJPMKlKPpw"
   },
   "source": [
    "###**(10) 정답 데이터와 예측한 데이터 시각화하기**\n",
    "*   x축에는 X 데이터의 첫 번째 컬럼을, y축에는 정답인 target 데이터를 넣어서 모델이 예측한 데이터를 시각화해 주세요."
   ]
  },
  {
   "cell_type": "code",
   "execution_count": 10,
   "metadata": {
    "colab": {
     "base_uri": "https://localhost:8080/",
     "height": 430
    },
    "executionInfo": {
     "elapsed": 622,
     "status": "ok",
     "timestamp": 1688985991078,
     "user": {
      "displayName": "서희원",
      "userId": "11121273080748705185"
     },
     "user_tz": -540
    },
    "id": "q-3jF5HgHuoE",
    "outputId": "560a7e42-6e11-4624-940b-696cae4cf0a9"
   },
   "outputs": [
    {
     "data": {
      "image/png": "[encoded data removed]",
      "text/plain": [
       "<Figure size 432x288 with 1 Axes>"
      ]
     },
     "metadata": {
      "needs_background": "light"
     },
     "output_type": "display_data"
    }
   ],
   "source": [
    "plt.scatter(X_test[:, 0], y_test)\n",
    "plt.scatter(X_test[:, 0], prediction)\n",
    "plt.show()"
   ]
  }
 ],
 "metadata": {
  "colab": {
   "authorship_tag": "ABX9TyMStqG1iKlOa7ANDBQmqH6c",
   "provenance": []
  },
  "kernelspec": {
   "display_name": "Python 3 (ipykernel)",
   "language": "python",
   "name": "python3"
  },
  "language_info": {
   "codemirror_mode": {
    "name": "ipython",
    "version": 3
   },
   "file_extension": ".py",
   "mimetype": "text/x-python",
   "name": "python",
   "nbconvert_exporter": "python",
   "pygments_lexer": "ipython3",
   "version": "3.9.7"
  }
 },
 "nbformat": 4,
 "nbformat_minor": 1
}
