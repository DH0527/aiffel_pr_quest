{
 "cells": [
  {
   "attachments": {},
   "cell_type": "markdown",
   "metadata": {
    "id": "bZPyjjlppiuQ"
   },
   "source": [
    "###**(1) 데이터 가져오기**\n",
    "\n",
    "*   터미널에서 ~/data/data/bike-sharing-demand 경로에 train.csv 데이터를 train 변수로 가져 옵니다."
   ]
  },
  {
   "cell_type": "code",
   "execution_count": 1,
   "metadata": {
    "colab": {
     "base_uri": "https://localhost:8080/",
     "height": 382
    },
    "executionInfo": {
     "elapsed": 2027,
     "status": "error",
     "timestamp": 1689039523200,
     "user": {
      "displayName": "서희원",
      "userId": "11121273080748705185"
     },
     "user_tz": -540
    },
    "id": "a-wxEkkmaIKD",
    "outputId": "fc104cff-2478-49e2-ba09-ac451a49400f"
   },
   "outputs": [
    {
     "name": "stdout",
     "output_type": "stream",
     "text": [
      "                  datetime  season  holiday  workingday  weather   temp  \\\n",
      "0      2011-01-01 00:00:00       1        0           0        1   9.84   \n",
      "1      2011-01-01 01:00:00       1        0           0        1   9.02   \n",
      "2      2011-01-01 02:00:00       1        0           0        1   9.02   \n",
      "3      2011-01-01 03:00:00       1        0           0        1   9.84   \n",
      "4      2011-01-01 04:00:00       1        0           0        1   9.84   \n",
      "...                    ...     ...      ...         ...      ...    ...   \n",
      "10881  2012-12-19 19:00:00       4        0           1        1  15.58   \n",
      "10882  2012-12-19 20:00:00       4        0           1        1  14.76   \n",
      "10883  2012-12-19 21:00:00       4        0           1        1  13.94   \n",
      "10884  2012-12-19 22:00:00       4        0           1        1  13.94   \n",
      "10885  2012-12-19 23:00:00       4        0           1        1  13.12   \n",
      "\n",
      "        atemp  humidity  windspeed  casual  registered  count  \n",
      "0      14.395        81     0.0000       3          13     16  \n",
      "1      13.635        80     0.0000       8          32     40  \n",
      "2      13.635        80     0.0000       5          27     32  \n",
      "3      14.395        75     0.0000       3          10     13  \n",
      "4      14.395        75     0.0000       0           1      1  \n",
      "...       ...       ...        ...     ...         ...    ...  \n",
      "10881  19.695        50    26.0027       7         329    336  \n",
      "10882  17.425        57    15.0013      10         231    241  \n",
      "10883  15.910        61    15.0013       4         164    168  \n",
      "10884  17.425        61     6.0032      12         117    129  \n",
      "10885  16.665        66     8.9981       4          84     88  \n",
      "\n",
      "[10886 rows x 12 columns]\n"
     ]
    }
   ],
   "source": [
    "import pandas as pd\n",
    "import numpy as np\n",
    "import matplotlib.pyplot as plt\n",
    "import seaborn as sns\n",
    "from sklearn.model_selection import train_test_split\n",
    "from sklearn.linear_model import LinearRegression\n",
    "from sklearn.metrics import mean_squared_error\n",
    "import datetime as dts\n",
    "\n",
    "df = pd.read_csv(\"~/data/data/bike-sharing-demand/train.csv\")\n",
    "print(df)"
   ]
  },
  {
   "attachments": {},
   "cell_type": "markdown",
   "metadata": {
    "id": "XHzJucfKpjwu"
   },
   "source": [
    "###**(2)  datetime 컬럼을 datetime 자료형으로 변환하고 연, 월, 일, 시, 분, 초까지 6가지 컬럼 생성하기**\n",
    "\n",
    "*   to_datetime 활용\n",
    "*   연, 월, 일, 시, 분, 초까지 6가지 컬럼 생성"
   ]
  },
  {
   "cell_type": "code",
   "execution_count": 2,
   "metadata": {
    "id": "Um7LYkoDmRy4"
   },
   "outputs": [
    {
     "name": "stdout",
     "output_type": "stream",
     "text": [
      "       datetime  season  holiday  workingday  weather   temp   atemp  \\\n",
      "0        734138       1        0           0        1   9.84  14.395   \n",
      "1        734138       1        0           0        1   9.02  13.635   \n",
      "2        734138       1        0           0        1   9.02  13.635   \n",
      "3        734138       1        0           0        1   9.84  14.395   \n",
      "4        734138       1        0           0        1   9.84  14.395   \n",
      "...         ...     ...      ...         ...      ...    ...     ...   \n",
      "10881    734856       4        0           1        1  15.58  19.695   \n",
      "10882    734856       4        0           1        1  14.76  17.425   \n",
      "10883    734856       4        0           1        1  13.94  15.910   \n",
      "10884    734856       4        0           1        1  13.94  17.425   \n",
      "10885    734856       4        0           1        1  13.12  16.665   \n",
      "\n",
      "       humidity  windspeed  casual  registered  count  year  month  day  hour  \\\n",
      "0            81     0.0000       3          13     16  2011      1    1     0   \n",
      "1            80     0.0000       8          32     40  2011      1    1     1   \n",
      "2            80     0.0000       5          27     32  2011      1    1     2   \n",
      "3            75     0.0000       3          10     13  2011      1    1     3   \n",
      "4            75     0.0000       0           1      1  2011      1    1     4   \n",
      "...         ...        ...     ...         ...    ...   ...    ...  ...   ...   \n",
      "10881        50    26.0027       7         329    336  2012     12   19    19   \n",
      "10882        57    15.0013      10         231    241  2012     12   19    20   \n",
      "10883        61    15.0013       4         164    168  2012     12   19    21   \n",
      "10884        61     6.0032      12         117    129  2012     12   19    22   \n",
      "10885        66     8.9981       4          84     88  2012     12   19    23   \n",
      "\n",
      "       minute  second  \n",
      "0           0       0  \n",
      "1           1       0  \n",
      "2           2       0  \n",
      "3           3       0  \n",
      "4           4       0  \n",
      "...       ...     ...  \n",
      "10881      19       0  \n",
      "10882      20       0  \n",
      "10883      21       0  \n",
      "10884      22       0  \n",
      "10885      23       0  \n",
      "\n",
      "[10886 rows x 18 columns]\n"
     ]
    }
   ],
   "source": [
    "df['datetime'] = pd.to_datetime(df['datetime'])\n",
    "df['year'] = df['datetime'].dt.year\n",
    "df['month'] = df['datetime'].dt.month\n",
    "df['day'] = df['datetime'].dt.day\n",
    "df['hour'] = df['datetime'].dt.hour\n",
    "df['minute'] = df['datetime'].dt.hour\n",
    "df['second'] = df['datetime'].dt.second\n",
    "df['datetime'] = df['datetime'].map(dts.datetime.toordinal)\n",
    "\n",
    "print(df)"
   ]
  },
  {
   "attachments": {},
   "cell_type": "markdown",
   "metadata": {
    "id": "wZMyAl-0pkGa"
   },
   "source": [
    "###**(3)  year, month, day, hour, minute, second 데이터 개수 시각화하기**\n",
    "\n",
    "*   sns.countplot 활용해서 시각화하기\n",
    "*   subplot을 활용해서 한 번에 6개의 그래프 함께 시각화하기"
   ]
  },
  {
   "cell_type": "code",
   "execution_count": 3,
   "metadata": {
    "id": "b-CbS0X9mR6C"
   },
   "outputs": [
    {
     "data": {
      "text/plain": [
       "<AxesSubplot:xlabel='second', ylabel='count'>"
      ]
     },
     "execution_count": 3,
     "metadata": {},
     "output_type": "execute_result"
    },
    {
     "data": {
      "image/png": "[encoded data removed]",
      "text/plain": [
       "<Figure size 1080x288 with 6 Axes>"
      ]
     },
     "metadata": {
      "needs_background": "light"
     },
     "output_type": "display_data"
    }
   ],
   "source": [
    "plt.figure(figsize=(15,4))\n",
    "\n",
    "plt.subplot(2, 3, 1)\n",
    "sns.countplot(x=\"year\", data=df)\n",
    "\n",
    "plt.subplot(2, 3, 2)\n",
    "sns.countplot(x=\"month\", data=df)\n",
    "\n",
    "plt.subplot(2, 3, 3)\n",
    "sns.countplot(x=\"day\", data=df)\n",
    "\n",
    "plt.subplot(2, 3, 4)\n",
    "sns.countplot(x=\"hour\", data=df)\n",
    "\n",
    "plt.subplot(2, 3, 5)\n",
    "sns.countplot(x=\"minute\", data=df)\n",
    "\n",
    "plt.subplot(2, 3, 6)\n",
    "sns.countplot(x=\"second\", data=df)"
   ]
  },
  {
   "attachments": {},
   "cell_type": "markdown",
   "metadata": {
    "id": "Orw6kvBGpsIL"
   },
   "source": [
    "###**(4) X, y 컬럼 선택 및 train/test 데이터 분리**\n",
    "\n",
    "*   x 변수에 적절히 데이터 삭제\n",
    "*   count 값을 맞추고자 하므로, y 변수에 count 컬럼의 데이터 넣기"
   ]
  },
  {
   "cell_type": "code",
   "execution_count": 4,
   "metadata": {
    "id": "SwQNeBjDmVHs"
   },
   "outputs": [
    {
     "name": "stdout",
     "output_type": "stream",
     "text": [
      "(7620, 15) (7620,)\n",
      "(3266, 15) (3266,)\n"
     ]
    }
   ],
   "source": [
    "# X = df.drop(['casual', 'registered', 'workingday'],axis=1) # 원본 코드\n",
    "X = df.drop(['casual', 'registered', 'workingday', 'count'],axis=1)\n",
    "y = df['count']\n",
    "\n",
    "X_train, X_test, y_train, y_test = train_test_split(X, y, test_size=0.3, random_state=34)\n",
    "\n",
    "print(X_train.shape, y_train.shape)\n",
    "print(X_test.shape, y_test.shape)"
   ]
  },
  {
   "attachments": {},
   "cell_type": "markdown",
   "metadata": {
    "id": "OnyqKRiJps4g"
   },
   "source": [
    "###**(5) LinearRegression 모델 학습**\n",
    "\n",
    "*   sklearn의 LinearRegression 모델 불러오기 및 학습하기"
   ]
  },
  {
   "cell_type": "code",
   "execution_count": 5,
   "metadata": {
    "id": "glegx_N4mWP6"
   },
   "outputs": [
    {
     "data": {
      "text/plain": [
       "LinearRegression()"
      ]
     },
     "execution_count": 5,
     "metadata": {},
     "output_type": "execute_result"
    }
   ],
   "source": [
    "model = LinearRegression()\n",
    "\n",
    "model.fit(X_train, y_train)"
   ]
  },
  {
   "attachments": {},
   "cell_type": "markdown",
   "metadata": {
    "id": "k6reeJsIptM5"
   },
   "source": [
    "###**(6) 학습된 모델로 X_test에 대한 예측값 출력 및 손실함수값 계산**\n",
    "\n",
    "*   학습된 모델에 X_test를 입력해서 예측값 출력하기\n",
    "*   모델이 예측한 값과 정답 target 간의 손실함수 값 계산하기\n",
    "*   mse 값과 함께 rmse 값도 계산하기"
   ]
  },
  {
   "cell_type": "code",
   "execution_count": 6,
   "metadata": {
    "id": "SHLHRCkipOFH"
   },
   "outputs": [
    {
     "name": "stdout",
     "output_type": "stream",
     "text": [
      "[197. 123.  41. ... 423.  51.  57.]\n",
      "2.951821213953374e-26\n",
      "1.7180864978089357e-13\n"
     ]
    }
   ],
   "source": [
    "predictions = model.predict(X_test)\n",
    "\n",
    "print(predictions)\n",
    "\n",
    "mse = mean_squared_error(y_test, predictions)\n",
    "\n",
    "print(mse)\n",
    "print(np.sqrt(mse))"
   ]
  },
  {
   "attachments": {},
   "cell_type": "markdown",
   "metadata": {
    "id": "axVO3f_jptnw"
   },
   "source": [
    "###**(7) x축은 temp 또는 humidity로, y축은 count로 예측 결과 시각화하기**\n",
    "\n",
    "*   x축에 X 데이터 중 temp 데이터를, y축에는 count 데이터를 넣어서 시각화하기\n",
    "*   x축에 X 데이터 중 humidity 데이터를, y축에는 count 데이터를 넣어서 시각화하기"
   ]
  },
  {
   "cell_type": "code",
   "execution_count": 7,
   "metadata": {
    "id": "xLzsO7c4pPnk"
   },
   "outputs": [
    {
     "data": {
      "text/plain": [
       "<matplotlib.collections.PathCollection at 0x7f4675fde2b0>"
      ]
     },
     "execution_count": 7,
     "metadata": {},
     "output_type": "execute_result"
    },
    {
     "data": {
      "image/png": "[encoded data removed]",
      "text/plain": [
       "<Figure size 1080x288 with 2 Axes>"
      ]
     },
     "metadata": {
      "needs_background": "light"
     },
     "output_type": "display_data"
    }
   ],
   "source": [
    "# 지금 하는 것은 학습 동향성 확인을 위한 코드이므로 label과 prediction 간의 차이를 나타내어야 합니다.\n",
    "# 고로 y값에 대한 시각화도 포함되어야 합니다.\n",
    "plt.figure(figsize=(15,4))\n",
    "\n",
    "plt.subplot(1, 2, 1)\n",
    "plt.scatter(X_test['temp'], predictions)\n",
    "plt.scatter(X_test['temp'], y_test)# 추가된 코드\n",
    "\n",
    "plt.subplot(1, 2, 2)\n",
    "plt.scatter(X_test['humidity'], predictions)\n",
    "plt.scatter(X_test['humidity'], y_test)# 추가된 코드"
   ]
  }
 ],
 "metadata": {
  "colab": {
   "authorship_tag": "ABX9TyMpMsJkOPdP+JP1PIwQNv0O",
   "provenance": []
  },
  "kernelspec": {
   "display_name": "Python 3 (ipykernel)",
   "language": "python",
   "name": "python3"
  },
  "language_info": {
   "codemirror_mode": {
    "name": "ipython",
    "version": 3
   },
   "file_extension": ".py",
   "mimetype": "text/x-python",
   "name": "python",
   "nbconvert_exporter": "python",
   "pygments_lexer": "ipython3",
   "version": "3.9.7"
  }
 },
 "nbformat": 4,
 "nbformat_minor": 1
}
